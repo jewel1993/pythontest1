{
 "cells": [
  {
   "cell_type": "code",
   "execution_count": 6,
   "metadata": {},
   "outputs": [],
   "source": [
    "import pandas as pd\n",
    "import matplotlib.pyplot as plt"
   ]
  },
  {
   "cell_type": "code",
   "execution_count": 9,
   "metadata": {},
   "outputs": [],
   "source": [
    "df = pd.DataFrame(pd.read_csv('Data/EastGodavari/EGAvgTemp.csv'))"
   ]
  },
  {
   "cell_type": "code",
   "execution_count": 10,
   "metadata": {},
   "outputs": [
    {
     "name": "stdout",
     "output_type": "stream",
     "text": [
      "     Year     Jan     Feb     Mar     Apr     May     Jun     Jul     Aug     Sep     Oct     Nov     Dec\n",
      "0    1901  24.294  24.818  26.758  29.576  31.265  30.565  28.259  27.694  28.631  27.337  25.143  22.990\n",
      "1    1902  23.289  24.498  27.123  29.695  32.200  31.265  28.456  28.547  27.723  27.329  24.812  23.385\n",
      "2    1903  23.400  24.863  27.149  29.540  30.732  30.620  27.800  27.809  27.631  26.928  24.151  22.553\n",
      "3    1904  22.993  23.847  26.581  29.770  30.822  29.951  28.372  28.262  27.834  27.002  24.753  22.656\n",
      "4    1905  22.939  24.190  26.966  29.148  30.936  31.128  28.934  27.767  27.547  27.178  25.243  22.819\n",
      "5    1906  24.131  25.360  26.299  30.040  32.418  29.765  28.326  27.652  28.182  27.318  25.046  23.800\n",
      "6    1907  23.138  24.773  26.656  28.616  31.240  29.921  28.252  27.004  28.246  27.390  25.579  22.865\n",
      "7    1908  22.257  24.458  26.555  29.978  31.778  31.375  28.356  27.379  27.838  27.108  24.342  22.144\n",
      "8    1909  23.452  24.893  26.849  28.468  31.211  29.469  28.222  27.429  27.587  27.554  25.718  23.799\n",
      "9    1910  23.587  24.352  26.701  29.709  31.686  30.775  28.152  28.148  28.167  27.384  23.553  22.028\n",
      "10   1911  23.593  23.901  26.755  29.649  31.749  29.946  28.663  27.808  28.143  27.335  25.310  23.062\n",
      "11   1912  23.129  25.465  27.676  29.399  31.964  31.734  27.983  27.325  27.804  27.258  24.528  22.107\n",
      "12   1913  22.349  25.087  26.989  29.827  31.408  29.902  27.972  28.522  28.567  26.887  24.877  23.368\n",
      "13   1914  22.570  25.072  27.012  28.279  31.054  29.759  28.014  27.257  27.805  27.229  25.177  23.612\n",
      "14   1915  23.040  24.651  26.554  29.453  31.821  30.680  28.632  27.825  27.598  27.445  25.642  22.479\n",
      "15   1916  23.242  25.378  26.842  29.652  31.624  29.247  27.696  28.010  27.998  26.801  24.786  22.482\n",
      "16   1917  22.691  24.280  26.026  29.115  30.325  28.998  28.277  27.841  27.541  26.769  24.423  22.535\n",
      "17   1918  22.610  23.848  26.464  29.273  30.485  29.643  29.088  28.023  28.660  27.539  25.483  23.574\n",
      "18   1919  24.196  25.880  27.479  29.928  31.929  29.731  28.574  28.762  28.281  27.007  25.061  23.195\n",
      "19   1920  23.334  25.200  27.580  29.648  31.652  30.782  29.460  28.996  28.891  27.754  25.616  22.869\n",
      "20   1921  23.677  24.697  27.556  29.622  33.118  31.063  28.480  28.333  28.093  26.596  23.877  22.939\n",
      "21   1922  23.036  24.806  27.559  30.085  32.078  31.088  28.758  29.072  28.263  26.946  25.188  22.448\n",
      "22   1923  22.434  24.443  26.362  29.974  31.830  32.419  28.651  28.946  27.627  26.881  24.924  23.265\n",
      "23   1924  23.070  25.631  27.260  30.605  32.096  31.390  28.909  28.411  27.488  27.448  24.580  22.596\n",
      "24   1925  22.898  24.416  26.968  29.735  31.069  30.163  28.323  27.982  28.314  26.713  25.093  22.524\n",
      "25   1926  23.374  24.759  27.104  29.373  31.550  32.187  28.628  28.060  27.999  27.195  24.550  22.987\n",
      "26   1927  24.023  25.127  27.704  30.274  32.210  30.406  28.354  28.240  28.333  27.335  24.413  23.198\n",
      "27   1928  22.873  25.042  26.846  29.514  32.514  30.859  28.152  28.619  28.120  27.081  25.227  23.501\n",
      "28   1929  23.963  24.252  26.851  29.642  32.295  30.460  29.023  28.422  27.938  26.947  24.709  23.659\n",
      "29   1930  23.261  23.624  26.706  29.382  31.169  30.387  28.957  28.358  27.868  26.763  24.202  23.203\n",
      "30   1931  22.507  24.557  26.731  29.916  31.730  30.850  27.937  28.406  27.845  26.927  24.307  23.261\n",
      "31   1932  22.054  24.030  27.234  29.602  30.707  30.586  28.013  28.032  28.143  27.529  25.276  22.770\n",
      "32   1933  23.001  24.845  26.257  29.153  30.209  29.666  28.144  27.445  28.267  26.675  24.766  22.819\n",
      "33   1934  22.315  24.058  26.480  29.603  31.992  30.568  28.011  27.593  28.001  26.816  23.673  22.438\n",
      "34   1935  22.747  24.450  26.546  29.094  32.227  30.602  28.406  28.137  27.806  27.337  24.289  23.310\n",
      "35   1936  24.426  24.433  26.432  29.533  31.276  29.310  28.687  27.762  28.166  27.119  25.241  23.363\n",
      "36   1937  22.540  25.017  26.654  29.399  31.685  31.136  28.295  28.345  28.248  26.722  25.014  22.334\n",
      "37   1938  23.851  24.993  27.464  29.597  32.090  28.886  27.862  28.033  27.525  26.846  23.750  21.834\n",
      "38   1939  22.432  23.738  26.213  29.391  32.085  31.296  28.343  28.480  28.366  27.081  24.196  22.632\n",
      "39   1940  21.476  24.481  26.706  29.263  31.519  30.186  27.896  27.828  28.137  27.041  25.684  23.553\n",
      "40   1941  23.976  25.177  28.413  31.371  32.580  29.716  29.047  28.608  27.947  27.454  24.379  24.115\n",
      "41   1942  22.992  24.487  26.867  29.825  33.237  31.358  28.495  27.870  28.281  27.070  24.741  23.576\n",
      "42   1943  23.846  23.429  27.234  29.692  31.289  29.635  28.175  28.100  27.805  27.051  25.273  22.582\n",
      "43   1944  22.767  25.084  26.209  29.426  32.197  31.762  27.735  28.100  27.830  27.248  24.943  22.964\n",
      "44   1945  22.763  24.736  27.501  29.603  33.112  31.836  27.897  27.998  27.544  26.996  24.358  21.794\n",
      "45   1946  21.497  23.689  28.044  29.592  32.908  30.119  28.241  27.869  28.359  27.852  25.913  24.101\n",
      "46   1947  23.917  24.298  28.032  31.881  32.862  32.075  27.818  27.862  27.875  26.977  24.690  22.902\n",
      "47   1948  23.399  25.832  27.374  30.642  33.498  32.742  28.926  28.293  27.853  27.636  25.772  22.126\n",
      "48   1949  22.690  24.536  27.707  30.321  32.236  30.836  27.774  28.029  27.963  27.764  24.721  22.252\n",
      "49   1950  22.498  24.764  26.785  30.045  32.229  30.850  27.876  28.790  27.800  27.096  24.364  22.035\n",
      "50   1951  22.701  24.431  27.387  29.978  31.735  30.392  28.623  28.407  28.672  28.645  25.716  23.294\n",
      "51   1952  23.240  25.409  27.639  30.670  32.062  32.308  29.679  28.732  28.670  27.079  24.820  24.370\n",
      "52   1953  23.411  25.054  28.713  30.783  34.000  31.930  29.186  28.192  28.293  27.412  25.025  22.870\n",
      "53   1954  22.960  25.664  27.770  31.316  32.667  31.897  28.211  28.640  27.939  26.604  23.768  23.294\n",
      "54   1955  22.972  25.352  27.830  30.200  31.349  31.534  28.995  27.679  28.014  27.061  23.931  22.607\n",
      "55   1956  23.167  23.846  27.747  30.726  32.679  30.338  27.576  28.286  28.096  26.539  25.213  23.064\n",
      "56   1957  23.680  24.919  26.893  29.654  31.985  31.673  28.833  27.641  28.907  28.026  25.241  23.797\n",
      "57   1958  23.754  25.589  28.109  30.590  32.893  33.334  28.146  27.975  28.356  27.286  25.889  23.743\n",
      "58   1959  23.674  25.840  27.746  30.261  32.459  30.771  28.132  27.622  28.379  27.312  24.714  22.908\n",
      "59   1960  23.206  24.442  27.044  30.013  32.164  31.377  28.558  29.234  28.274  27.396  24.953  23.537\n",
      "60   1961  23.341  24.875  28.324  30.688  32.334  30.501  27.615  28.166  27.618  26.726  24.699  21.962\n",
      "61   1962  21.574  24.021  27.031  29.933  31.944  30.701  28.183  27.773  27.774  26.849  24.508  23.186\n",
      "62   1963  22.023  23.907  27.286  28.721  31.904  30.764  28.514  27.773  28.819  27.489  25.396  23.543\n",
      "63   1964  23.568  25.551  28.056  30.481  33.267  30.688  28.569  27.403  27.295  27.342  24.848  22.751\n",
      "64   1965  23.353  24.897  26.691  29.087  31.453  31.780  28.704  28.474  28.383  27.882  25.624  24.213\n",
      "65   1966  23.552  25.094  27.812  30.250  33.684  31.264  29.020  28.838  28.176  27.084  25.766  22.873\n",
      "66   1967  23.314  24.947  26.663  29.768  32.443  31.173  28.634  27.926  28.190  26.867  24.340  23.871\n",
      "67   1968  22.547  25.192  27.305  28.980  31.632  31.531  29.029  29.280  28.053  26.688  24.889  23.136\n",
      "68   1969  22.868  25.229  28.137  30.493  30.481  31.129  27.874  28.044  27.916  26.776  25.222  22.556\n",
      "69   1970  23.000  25.298  27.650  29.971  31.736  29.363  28.200  27.356  28.057  26.625  24.344  21.113\n",
      "70   1971  22.664  25.465  26.862  28.918  30.696  28.805  28.844  28.038  27.737  26.445  23.488  21.699\n",
      "71   1972  21.615  24.539  27.319  30.988  33.912  33.471  30.147  29.442  29.178  27.049  25.325  24.642\n",
      "72   1973  24.543  26.344  28.068  31.403  33.514  32.082  29.452  28.577  28.947  27.264  24.805  23.113\n",
      "73   1974  22.666  25.211  28.404  30.220  32.159  30.703  29.654  28.748  28.315  27.256  24.890  22.429\n",
      "74   1975  22.494  25.613  28.372  30.718  33.631  30.605  28.327  28.639  27.298  27.367  24.216  21.928\n",
      "75   1976  22.166  24.538  28.095  30.203  31.942  30.959  27.289  27.983  27.624  26.990  25.250  22.699\n",
      "76   1977  22.442  25.382  28.156  29.837  31.464  31.175  29.026  28.107  28.934  27.248  26.428  23.417\n",
      "77   1978  23.648  25.277  27.747  30.203  33.469  30.919  28.440  27.429  28.624  28.267  26.541  24.034\n",
      "78   1979  24.016  26.321  27.811  30.729  31.808  31.372  30.549  29.576  28.611  28.171  26.487  24.510\n",
      "79   1980  24.678  26.393  28.690  30.925  32.962  29.854  28.830  28.365  28.626  27.708  25.740  24.210\n",
      "80   1981  23.256  25.752  27.722  30.670  32.195  31.921  29.101  28.385  28.530  27.908  25.095  23.794\n",
      "81   1982  23.988  26.020  28.468  30.486  31.681  31.586  29.560  28.250  28.581  27.645  25.952  24.001\n",
      "82   1983  23.814  26.744  28.837  30.541  31.970  31.908  29.257  28.355  28.016  27.513  25.143  23.584\n",
      "83   1984  24.602  25.531  27.475  30.186  32.411  31.227  28.660  29.307  28.756  27.588  24.670  24.410\n",
      "84   1985  24.239  25.587  28.375  31.153  32.966  30.598  28.249  28.363  28.650  26.720  24.977  23.704\n",
      "85   1986  22.833  25.095  27.690  29.985  32.450  30.726  29.636  28.618  29.378  27.728  25.633  24.527\n",
      "86   1987  24.040  24.415  26.823  30.454  31.016  32.644  29.592  28.806  29.695  27.738  25.774  24.211\n",
      "87   1988  24.110  25.994  28.472  29.815  32.770  32.045  27.975  28.085  28.352  27.652  25.329  24.047\n",
      "88   1989  23.538  25.096  27.126  30.256  32.508  30.319  28.424  28.219  28.214  27.988  25.389  23.351\n",
      "89   1990  24.224  25.914  27.975  30.482  29.953  30.024  28.892  28.627  28.842  27.143  26.243  24.353\n",
      "90   1991  24.480  26.168  28.480  30.539  32.193  29.904  29.196  28.776  28.975  27.756  24.746  23.104\n",
      "91   1992  22.662  25.638  27.735  30.052  32.030  31.176  29.715  28.227  28.696  27.882  25.834  22.989\n",
      "92   1993  23.844  24.838  27.731  29.928  31.738  31.876  29.523  29.571  28.839  28.011  25.601  23.126\n",
      "93   1994  23.878  25.491  28.298  30.274  32.828  31.489  28.453  28.229  29.031  27.510  24.821  22.936\n",
      "94   1995  22.904  25.238  27.917  29.966  30.143  31.959  28.837  29.416  28.703  27.601  26.348  23.760\n",
      "95   1996  24.111  25.097  27.968  29.889  32.880  30.767  29.262  28.569  28.864  27.374  25.919  23.125\n",
      "96   1997  22.845  25.259  27.776  29.080  32.016  32.551  29.981  29.380  28.793  27.787  26.723  25.363\n",
      "97   1998  25.204  26.485  28.504  30.168  32.933  32.472  29.344  28.941  28.967  28.091  26.624  23.163\n",
      "98   1999  23.063  25.940  28.627  31.135  31.411  30.903  29.595  28.921  28.628  28.029  25.794  23.335\n",
      "99   2000  24.231  26.065  27.741  30.949  32.817  29.682  28.748  28.059  29.214  28.462  25.883  23.200\n",
      "100  2001  23.800  26.040  28.539  29.567  32.936  30.366  30.154  28.487  29.474  28.314  26.447  23.784\n",
      "101  2002  24.297  25.568  28.468  30.633  33.486  30.388  30.200  28.563  30.008  27.967  25.166  23.898\n"
     ]
    }
   ],
   "source": [
    "print(df.to_string())"
   ]
  },
  {
   "cell_type": "code",
   "execution_count": 11,
   "metadata": {},
   "outputs": [
    {
     "ename": "KeyError",
     "evalue": "'year'",
     "output_type": "error",
     "traceback": [
      "\u001b[1;31m---------------------------------------------------------------------------\u001b[0m",
      "\u001b[1;31mKeyError\u001b[0m                                  Traceback (most recent call last)",
      "\u001b[1;32m~\\anaconda3\\envs\\test3\\lib\\site-packages\\pandas\\core\\indexes\\base.py\u001b[0m in \u001b[0;36mget_loc\u001b[1;34m(self, key, method, tolerance)\u001b[0m\n\u001b[0;32m   2897\u001b[0m             \u001b[1;32mtry\u001b[0m\u001b[1;33m:\u001b[0m\u001b[1;33m\u001b[0m\u001b[1;33m\u001b[0m\u001b[0m\n\u001b[1;32m-> 2898\u001b[1;33m                 \u001b[1;32mreturn\u001b[0m \u001b[0mself\u001b[0m\u001b[1;33m.\u001b[0m\u001b[0m_engine\u001b[0m\u001b[1;33m.\u001b[0m\u001b[0mget_loc\u001b[0m\u001b[1;33m(\u001b[0m\u001b[0mcasted_key\u001b[0m\u001b[1;33m)\u001b[0m\u001b[1;33m\u001b[0m\u001b[1;33m\u001b[0m\u001b[0m\n\u001b[0m\u001b[0;32m   2899\u001b[0m             \u001b[1;32mexcept\u001b[0m \u001b[0mKeyError\u001b[0m \u001b[1;32mas\u001b[0m \u001b[0merr\u001b[0m\u001b[1;33m:\u001b[0m\u001b[1;33m\u001b[0m\u001b[1;33m\u001b[0m\u001b[0m\n",
      "\u001b[1;32mpandas\\_libs\\index.pyx\u001b[0m in \u001b[0;36mpandas._libs.index.IndexEngine.get_loc\u001b[1;34m()\u001b[0m\n",
      "\u001b[1;32mpandas\\_libs\\index.pyx\u001b[0m in \u001b[0;36mpandas._libs.index.IndexEngine.get_loc\u001b[1;34m()\u001b[0m\n",
      "\u001b[1;32mpandas\\_libs\\hashtable_class_helper.pxi\u001b[0m in \u001b[0;36mpandas._libs.hashtable.PyObjectHashTable.get_item\u001b[1;34m()\u001b[0m\n",
      "\u001b[1;32mpandas\\_libs\\hashtable_class_helper.pxi\u001b[0m in \u001b[0;36mpandas._libs.hashtable.PyObjectHashTable.get_item\u001b[1;34m()\u001b[0m\n",
      "\u001b[1;31mKeyError\u001b[0m: 'year'",
      "\nThe above exception was the direct cause of the following exception:\n",
      "\u001b[1;31mKeyError\u001b[0m                                  Traceback (most recent call last)",
      "\u001b[1;32m<ipython-input-11-849dde11115f>\u001b[0m in \u001b[0;36m<module>\u001b[1;34m\u001b[0m\n\u001b[1;32m----> 1\u001b[1;33m \u001b[0mdf\u001b[0m\u001b[1;33m.\u001b[0m\u001b[0mplot\u001b[0m\u001b[1;33m(\u001b[0m\u001b[0mkind\u001b[0m\u001b[1;33m=\u001b[0m\u001b[1;34m'scatter'\u001b[0m\u001b[1;33m,\u001b[0m\u001b[0mx\u001b[0m\u001b[1;33m=\u001b[0m\u001b[1;34m'year'\u001b[0m\u001b[1;33m,\u001b[0m\u001b[0my\u001b[0m\u001b[1;33m=\u001b[0m\u001b[1;34m'Jan'\u001b[0m\u001b[1;33m,\u001b[0m\u001b[0mcolor\u001b[0m\u001b[1;33m=\u001b[0m\u001b[1;34m'red'\u001b[0m\u001b[1;33m)\u001b[0m\u001b[1;33m\u001b[0m\u001b[1;33m\u001b[0m\u001b[0m\n\u001b[0m",
      "\u001b[1;32m~\\anaconda3\\envs\\test3\\lib\\site-packages\\pandas\\plotting\\_core.py\u001b[0m in \u001b[0;36m__call__\u001b[1;34m(self, *args, **kwargs)\u001b[0m\n\u001b[0;32m    892\u001b[0m         \u001b[1;32mif\u001b[0m \u001b[0mkind\u001b[0m \u001b[1;32min\u001b[0m \u001b[0mself\u001b[0m\u001b[1;33m.\u001b[0m\u001b[0m_dataframe_kinds\u001b[0m\u001b[1;33m:\u001b[0m\u001b[1;33m\u001b[0m\u001b[1;33m\u001b[0m\u001b[0m\n\u001b[0;32m    893\u001b[0m             \u001b[1;32mif\u001b[0m \u001b[0misinstance\u001b[0m\u001b[1;33m(\u001b[0m\u001b[0mdata\u001b[0m\u001b[1;33m,\u001b[0m \u001b[0mABCDataFrame\u001b[0m\u001b[1;33m)\u001b[0m\u001b[1;33m:\u001b[0m\u001b[1;33m\u001b[0m\u001b[1;33m\u001b[0m\u001b[0m\n\u001b[1;32m--> 894\u001b[1;33m                 \u001b[1;32mreturn\u001b[0m \u001b[0mplot_backend\u001b[0m\u001b[1;33m.\u001b[0m\u001b[0mplot\u001b[0m\u001b[1;33m(\u001b[0m\u001b[0mdata\u001b[0m\u001b[1;33m,\u001b[0m \u001b[0mx\u001b[0m\u001b[1;33m=\u001b[0m\u001b[0mx\u001b[0m\u001b[1;33m,\u001b[0m \u001b[0my\u001b[0m\u001b[1;33m=\u001b[0m\u001b[0my\u001b[0m\u001b[1;33m,\u001b[0m \u001b[0mkind\u001b[0m\u001b[1;33m=\u001b[0m\u001b[0mkind\u001b[0m\u001b[1;33m,\u001b[0m \u001b[1;33m**\u001b[0m\u001b[0mkwargs\u001b[0m\u001b[1;33m)\u001b[0m\u001b[1;33m\u001b[0m\u001b[1;33m\u001b[0m\u001b[0m\n\u001b[0m\u001b[0;32m    895\u001b[0m             \u001b[1;32melse\u001b[0m\u001b[1;33m:\u001b[0m\u001b[1;33m\u001b[0m\u001b[1;33m\u001b[0m\u001b[0m\n\u001b[0;32m    896\u001b[0m                 \u001b[1;32mraise\u001b[0m \u001b[0mValueError\u001b[0m\u001b[1;33m(\u001b[0m\u001b[1;34mf\"plot kind {kind} can only be used for data frames\"\u001b[0m\u001b[1;33m)\u001b[0m\u001b[1;33m\u001b[0m\u001b[1;33m\u001b[0m\u001b[0m\n",
      "\u001b[1;32m~\\anaconda3\\envs\\test3\\lib\\site-packages\\pandas\\plotting\\_matplotlib\\__init__.py\u001b[0m in \u001b[0;36mplot\u001b[1;34m(data, kind, **kwargs)\u001b[0m\n\u001b[0;32m     59\u001b[0m             \u001b[0mkwargs\u001b[0m\u001b[1;33m[\u001b[0m\u001b[1;34m\"ax\"\u001b[0m\u001b[1;33m]\u001b[0m \u001b[1;33m=\u001b[0m \u001b[0mgetattr\u001b[0m\u001b[1;33m(\u001b[0m\u001b[0max\u001b[0m\u001b[1;33m,\u001b[0m \u001b[1;34m\"left_ax\"\u001b[0m\u001b[1;33m,\u001b[0m \u001b[0max\u001b[0m\u001b[1;33m)\u001b[0m\u001b[1;33m\u001b[0m\u001b[1;33m\u001b[0m\u001b[0m\n\u001b[0;32m     60\u001b[0m     \u001b[0mplot_obj\u001b[0m \u001b[1;33m=\u001b[0m \u001b[0mPLOT_CLASSES\u001b[0m\u001b[1;33m[\u001b[0m\u001b[0mkind\u001b[0m\u001b[1;33m]\u001b[0m\u001b[1;33m(\u001b[0m\u001b[0mdata\u001b[0m\u001b[1;33m,\u001b[0m \u001b[1;33m**\u001b[0m\u001b[0mkwargs\u001b[0m\u001b[1;33m)\u001b[0m\u001b[1;33m\u001b[0m\u001b[1;33m\u001b[0m\u001b[0m\n\u001b[1;32m---> 61\u001b[1;33m     \u001b[0mplot_obj\u001b[0m\u001b[1;33m.\u001b[0m\u001b[0mgenerate\u001b[0m\u001b[1;33m(\u001b[0m\u001b[1;33m)\u001b[0m\u001b[1;33m\u001b[0m\u001b[1;33m\u001b[0m\u001b[0m\n\u001b[0m\u001b[0;32m     62\u001b[0m     \u001b[0mplot_obj\u001b[0m\u001b[1;33m.\u001b[0m\u001b[0mdraw\u001b[0m\u001b[1;33m(\u001b[0m\u001b[1;33m)\u001b[0m\u001b[1;33m\u001b[0m\u001b[1;33m\u001b[0m\u001b[0m\n\u001b[0;32m     63\u001b[0m     \u001b[1;32mreturn\u001b[0m \u001b[0mplot_obj\u001b[0m\u001b[1;33m.\u001b[0m\u001b[0mresult\u001b[0m\u001b[1;33m\u001b[0m\u001b[1;33m\u001b[0m\u001b[0m\n",
      "\u001b[1;32m~\\anaconda3\\envs\\test3\\lib\\site-packages\\pandas\\plotting\\_matplotlib\\core.py\u001b[0m in \u001b[0;36mgenerate\u001b[1;34m(self)\u001b[0m\n\u001b[0;32m    269\u001b[0m         \u001b[0mself\u001b[0m\u001b[1;33m.\u001b[0m\u001b[0m_compute_plot_data\u001b[0m\u001b[1;33m(\u001b[0m\u001b[1;33m)\u001b[0m\u001b[1;33m\u001b[0m\u001b[1;33m\u001b[0m\u001b[0m\n\u001b[0;32m    270\u001b[0m         \u001b[0mself\u001b[0m\u001b[1;33m.\u001b[0m\u001b[0m_setup_subplots\u001b[0m\u001b[1;33m(\u001b[0m\u001b[1;33m)\u001b[0m\u001b[1;33m\u001b[0m\u001b[1;33m\u001b[0m\u001b[0m\n\u001b[1;32m--> 271\u001b[1;33m         \u001b[0mself\u001b[0m\u001b[1;33m.\u001b[0m\u001b[0m_make_plot\u001b[0m\u001b[1;33m(\u001b[0m\u001b[1;33m)\u001b[0m\u001b[1;33m\u001b[0m\u001b[1;33m\u001b[0m\u001b[0m\n\u001b[0m\u001b[0;32m    272\u001b[0m         \u001b[0mself\u001b[0m\u001b[1;33m.\u001b[0m\u001b[0m_add_table\u001b[0m\u001b[1;33m(\u001b[0m\u001b[1;33m)\u001b[0m\u001b[1;33m\u001b[0m\u001b[1;33m\u001b[0m\u001b[0m\n\u001b[0;32m    273\u001b[0m         \u001b[0mself\u001b[0m\u001b[1;33m.\u001b[0m\u001b[0m_make_legend\u001b[0m\u001b[1;33m(\u001b[0m\u001b[1;33m)\u001b[0m\u001b[1;33m\u001b[0m\u001b[1;33m\u001b[0m\u001b[0m\n",
      "\u001b[1;32m~\\anaconda3\\envs\\test3\\lib\\site-packages\\pandas\\plotting\\_matplotlib\\core.py\u001b[0m in \u001b[0;36m_make_plot\u001b[1;34m(self)\u001b[0m\n\u001b[0;32m   1009\u001b[0m             \u001b[0mlabel\u001b[0m \u001b[1;33m=\u001b[0m \u001b[1;32mNone\u001b[0m\u001b[1;33m\u001b[0m\u001b[1;33m\u001b[0m\u001b[0m\n\u001b[0;32m   1010\u001b[0m         scatter = ax.scatter(\n\u001b[1;32m-> 1011\u001b[1;33m             \u001b[0mdata\u001b[0m\u001b[1;33m[\u001b[0m\u001b[0mx\u001b[0m\u001b[1;33m]\u001b[0m\u001b[1;33m.\u001b[0m\u001b[0mvalues\u001b[0m\u001b[1;33m,\u001b[0m\u001b[1;33m\u001b[0m\u001b[1;33m\u001b[0m\u001b[0m\n\u001b[0m\u001b[0;32m   1012\u001b[0m             \u001b[0mdata\u001b[0m\u001b[1;33m[\u001b[0m\u001b[0my\u001b[0m\u001b[1;33m]\u001b[0m\u001b[1;33m.\u001b[0m\u001b[0mvalues\u001b[0m\u001b[1;33m,\u001b[0m\u001b[1;33m\u001b[0m\u001b[1;33m\u001b[0m\u001b[0m\n\u001b[0;32m   1013\u001b[0m             \u001b[0mc\u001b[0m\u001b[1;33m=\u001b[0m\u001b[0mc_values\u001b[0m\u001b[1;33m,\u001b[0m\u001b[1;33m\u001b[0m\u001b[1;33m\u001b[0m\u001b[0m\n",
      "\u001b[1;32m~\\anaconda3\\envs\\test3\\lib\\site-packages\\pandas\\core\\frame.py\u001b[0m in \u001b[0;36m__getitem__\u001b[1;34m(self, key)\u001b[0m\n\u001b[0;32m   2904\u001b[0m             \u001b[1;32mif\u001b[0m \u001b[0mself\u001b[0m\u001b[1;33m.\u001b[0m\u001b[0mcolumns\u001b[0m\u001b[1;33m.\u001b[0m\u001b[0mnlevels\u001b[0m \u001b[1;33m>\u001b[0m \u001b[1;36m1\u001b[0m\u001b[1;33m:\u001b[0m\u001b[1;33m\u001b[0m\u001b[1;33m\u001b[0m\u001b[0m\n\u001b[0;32m   2905\u001b[0m                 \u001b[1;32mreturn\u001b[0m \u001b[0mself\u001b[0m\u001b[1;33m.\u001b[0m\u001b[0m_getitem_multilevel\u001b[0m\u001b[1;33m(\u001b[0m\u001b[0mkey\u001b[0m\u001b[1;33m)\u001b[0m\u001b[1;33m\u001b[0m\u001b[1;33m\u001b[0m\u001b[0m\n\u001b[1;32m-> 2906\u001b[1;33m             \u001b[0mindexer\u001b[0m \u001b[1;33m=\u001b[0m \u001b[0mself\u001b[0m\u001b[1;33m.\u001b[0m\u001b[0mcolumns\u001b[0m\u001b[1;33m.\u001b[0m\u001b[0mget_loc\u001b[0m\u001b[1;33m(\u001b[0m\u001b[0mkey\u001b[0m\u001b[1;33m)\u001b[0m\u001b[1;33m\u001b[0m\u001b[1;33m\u001b[0m\u001b[0m\n\u001b[0m\u001b[0;32m   2907\u001b[0m             \u001b[1;32mif\u001b[0m \u001b[0mis_integer\u001b[0m\u001b[1;33m(\u001b[0m\u001b[0mindexer\u001b[0m\u001b[1;33m)\u001b[0m\u001b[1;33m:\u001b[0m\u001b[1;33m\u001b[0m\u001b[1;33m\u001b[0m\u001b[0m\n\u001b[0;32m   2908\u001b[0m                 \u001b[0mindexer\u001b[0m \u001b[1;33m=\u001b[0m \u001b[1;33m[\u001b[0m\u001b[0mindexer\u001b[0m\u001b[1;33m]\u001b[0m\u001b[1;33m\u001b[0m\u001b[1;33m\u001b[0m\u001b[0m\n",
      "\u001b[1;32m~\\anaconda3\\envs\\test3\\lib\\site-packages\\pandas\\core\\indexes\\base.py\u001b[0m in \u001b[0;36mget_loc\u001b[1;34m(self, key, method, tolerance)\u001b[0m\n\u001b[0;32m   2898\u001b[0m                 \u001b[1;32mreturn\u001b[0m \u001b[0mself\u001b[0m\u001b[1;33m.\u001b[0m\u001b[0m_engine\u001b[0m\u001b[1;33m.\u001b[0m\u001b[0mget_loc\u001b[0m\u001b[1;33m(\u001b[0m\u001b[0mcasted_key\u001b[0m\u001b[1;33m)\u001b[0m\u001b[1;33m\u001b[0m\u001b[1;33m\u001b[0m\u001b[0m\n\u001b[0;32m   2899\u001b[0m             \u001b[1;32mexcept\u001b[0m \u001b[0mKeyError\u001b[0m \u001b[1;32mas\u001b[0m \u001b[0merr\u001b[0m\u001b[1;33m:\u001b[0m\u001b[1;33m\u001b[0m\u001b[1;33m\u001b[0m\u001b[0m\n\u001b[1;32m-> 2900\u001b[1;33m                 \u001b[1;32mraise\u001b[0m \u001b[0mKeyError\u001b[0m\u001b[1;33m(\u001b[0m\u001b[0mkey\u001b[0m\u001b[1;33m)\u001b[0m \u001b[1;32mfrom\u001b[0m \u001b[0merr\u001b[0m\u001b[1;33m\u001b[0m\u001b[1;33m\u001b[0m\u001b[0m\n\u001b[0m\u001b[0;32m   2901\u001b[0m \u001b[1;33m\u001b[0m\u001b[0m\n\u001b[0;32m   2902\u001b[0m         \u001b[1;32mif\u001b[0m \u001b[0mtolerance\u001b[0m \u001b[1;32mis\u001b[0m \u001b[1;32mnot\u001b[0m \u001b[1;32mNone\u001b[0m\u001b[1;33m:\u001b[0m\u001b[1;33m\u001b[0m\u001b[1;33m\u001b[0m\u001b[0m\n",
      "\u001b[1;31mKeyError\u001b[0m: 'year'"
     ]
    },
    {
     "data": {
      "image/png": "[encoded data removed]",
      "text/plain": [
       "<Figure size 432x288 with 1 Axes>"
      ]
     },
     "metadata": {
      "needs_background": "light"
     },
     "output_type": "display_data"
    }
   ],
   "source": [
    "df.plot(kind='scatter',x='year',y='Jan',color='red')"
   ]
  },
  {
   "cell_type": "code",
   "execution_count": null,
   "metadata": {},
   "outputs": [],
   "source": [
    "plt.show()"
   ]
  }
 ],
 "metadata": {
  "kernelspec": {
   "display_name": "Python 3",
   "language": "python",
   "name": "python3"
  },
  "language_info": {
   "codemirror_mode": {
    "name": "ipython",
    "version": 3
   },
   "file_extension": ".py",
   "mimetype": "text/x-python",
   "name": "python",
   "nbconvert_exporter": "python",
   "pygments_lexer": "ipython3",
   "version": "3.6.13"
  }
 },
 "nbformat": 4,
 "nbformat_minor": 4
}
